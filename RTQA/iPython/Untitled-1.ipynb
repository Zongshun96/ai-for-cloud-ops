{
 "cells": [
  {
   "cell_type": "code",
   "execution_count": 1,
   "metadata": {},
   "outputs": [],
   "source": [
    "import sys, os\n",
    "praxi_path = '/home/cc/Praxi-study/ai-for-cloud-ops/RTQA/iPython/Praxi/'\n",
    "# changeset_path = praxi_path+'changesets'\n",
    "# tagset_path = praxi_path+'tagsets'\n",
    "sys.path.append(praxi_path)\n",
    "# if not os.path.exists(changeset_path):\n",
    "#     os.makedirs(changeset_path)\n",
    "# if not os.path.exists(tagset_path):\n",
    "#     os.makedirs(tagset_path)"
   ]
  },
  {
   "cell_type": "code",
   "execution_count": 2,
   "metadata": {},
   "outputs": [],
   "source": [
    "%load_ext praxi"
   ]
  },
  {
   "cell_type": "code",
   "execution_count": 6,
   "metadata": {},
   "outputs": [
    {
     "name": "stdout",
     "output_type": "stream",
     "text": [
      "decorated expr get_ipython().system('pip install \"$packages_str\"')\n",
      " <class 'str'>\n",
      "['/home/cc/Praxi-study/ai-for-cloud-ops/RTQA/iPython/.venv/lib/python3.9/site-packages/ipykernel_launcher.py', '--ip=127.0.0.1', '--stdin=9013', '--control=9011', '--hb=9010', '--Session.signature_scheme=\"hmac-sha256\"', '--Session.key=b\"d833c1c3-5943-4ce1-8b64-49fc611259fe\"', '--shell=9012', '--transport=\"tcp\"', '--iopub=9014', '--f=/home/cc/.local/share/jupyter/runtime/kernel-v2-2925yKTxSbRxu6Ij.json']\n",
      "decorated expr_ast <ast.Module object at 0x7fb7aed93e20>\n",
      "decorated expr_ast.body [<ast.Expr object at 0x7fb7aed93e80>]\n",
      "decorated code <code object <module> at 0x7fb7af571190, file \"<timed eval>\", line 1>\n"
     ]
    },
    {
     "name": "stderr",
     "output_type": "stream",
     "text": [
      "ERROR:tornado.general:SEND Error: Host unreachable\n"
     ]
    },
    {
     "name": "stdout",
     "output_type": "stream",
     "text": [
      "label, targetdir ['\"$packages_str\"'] /home/cc/Praxi-study/ai-for-cloud-ops/RTQA/iPython/Praxi/\"$packages_str\"-changesets\n",
      "get_free_filename /home/cc/Praxi-study/ai-for-cloud-ops/RTQA/iPython/Praxi/\"$packages_str\"-changesets/\"$packages_str\"-1.yaml\n",
      "Watching:/home/cc/Praxi-study/ai-for-cloud-ops/RTQA/iPython/.venv/lib/python3.9/site-packages/\n",
      "Recording started\n",
      "Press Enter to continue..."
     ]
    },
    {
     "name": "stderr",
     "output_type": "stream",
     "text": [
      "ERROR:tornado.general:SEND Error: Host unreachable\n",
      "1507.34s - pydevd: Sending message related to process being replaced timed-out after 5 seconds\n"
     ]
    },
    {
     "name": "stdout",
     "output_type": "stream",
     "text": [
      "Requirement already satisfied: boto3 in ./.venv/lib/python3.9/site-packages (1.28.0)\n",
      "Requirement already satisfied: botocore<1.32.0,>=1.31.0 in ./.venv/lib/python3.9/site-packages (from boto3) (1.31.0)\n",
      "Requirement already satisfied: jmespath<2.0.0,>=0.7.1 in ./.venv/lib/python3.9/site-packages (from boto3) (1.0.1)\n",
      "Requirement already satisfied: s3transfer<0.7.0,>=0.6.0 in ./.venv/lib/python3.9/site-packages (from boto3) (0.6.1)\n",
      "Requirement already satisfied: python-dateutil<3.0.0,>=2.1 in ./.venv/lib/python3.9/site-packages (from botocore<1.32.0,>=1.31.0->boto3) (2.8.2)\n",
      "Requirement already satisfied: urllib3<1.27,>=1.25.4 in ./.venv/lib/python3.9/site-packages (from botocore<1.32.0,>=1.31.0->boto3) (1.26.16)\n",
      "Requirement already satisfied: six>=1.5 in ./.venv/lib/python3.9/site-packages (from python-dateutil<3.0.0,>=2.1->botocore<1.32.0,>=1.31.0->boto3) (1.16.0)\n",
      "CPU times: user 2.68 s, sys: 243 ms, total: 2.92 s\n",
      "Wall time: 4min 57s\n",
      "Recording stopped\n",
      "<Closed changeset from 1688680199.8520043 to 1688680205.5951102 with 0 creations, 0 modifications, and 0 deletions.>\n",
      "gen_changeset /home/cc/Praxi-study/ai-for-cloud-ops/RTQA/iPython/Praxi/\"$packages_str\"-changesets\n",
      "gen_changeset /home/cc/Praxi-study/ai-for-cloud-ops/RTQA/iPython/Praxi/\"$packages_str\"-changesets/\"$packages_str\"-1.yaml\n",
      "done\n",
      "gen_tagset /home/cc/Praxi-study/ai-for-cloud-ops/RTQA/iPython/Praxi/\"$packages_str\"-tagsets\n",
      "gen_tagset /home/cc/Praxi-study/ai-for-cloud-ops/RTQA/iPython/Praxi/\"$packages_str\"-tagsets/\"$packages_str\"-0.tag\n",
      "gen_tagset /home/cc/Praxi-study/ai-for-cloud-ops/RTQA/iPython/Praxi/\"$packages_str\"-tagsets\n",
      "gen_tagset /home/cc/Praxi-study/ai-for-cloud-ops/RTQA/iPython/Praxi/\"$packages_str\"-tagsets/\"$packages_str\"-1.tag\n"
     ]
    },
    {
     "name": "stderr",
     "output_type": "stream",
     "text": [
      "1515.06s - pydevd: Sending message related to process being replaced timed-out after 5 seconds\n"
     ]
    },
    {
     "name": "stdout",
     "output_type": "stream",
     "text": [
      "Found existing installation: boto3 1.28.0\n",
      "Uninstalling boto3-1.28.0:\n",
      "  Successfully uninstalled boto3-1.28.0\n",
      "decorated expr get_ipython().system('pip install \"$packages_str\"')\n",
      " <class 'str'>\n",
      "['/home/cc/Praxi-study/ai-for-cloud-ops/RTQA/iPython/.venv/lib/python3.9/site-packages/ipykernel_launcher.py', '--ip=127.0.0.1', '--stdin=9013', '--control=9011', '--hb=9010', '--Session.signature_scheme=\"hmac-sha256\"', '--Session.key=b\"d833c1c3-5943-4ce1-8b64-49fc611259fe\"', '--shell=9012', '--transport=\"tcp\"', '--iopub=9014', '--f=/home/cc/.local/share/jupyter/runtime/kernel-v2-2925yKTxSbRxu6Ij.json']\n",
      "decorated expr_ast <ast.Module object at 0x7fb7aed5cd90>\n",
      "decorated expr_ast.body [<ast.Expr object at 0x7fb7aed5cd60>]\n",
      "decorated code <code object <module> at 0x7fb7f1087df0, file \"<timed eval>\", line 1>\n",
      "label, targetdir ['\"$packages_str\"'] /home/cc/Praxi-study/ai-for-cloud-ops/RTQA/iPython/Praxi/\"$packages_str\"-changesets\n",
      "get_free_filename /home/cc/Praxi-study/ai-for-cloud-ops/RTQA/iPython/Praxi/\"$packages_str\"-changesets/\"$packages_str\"-2.yaml\n",
      "Watching:/home/cc/Praxi-study/ai-for-cloud-ops/RTQA/iPython/.venv/lib/python3.9/site-packages/\n",
      "Recording started\n",
      "Press Enter to continue..."
     ]
    },
    {
     "name": "stderr",
     "output_type": "stream",
     "text": [
      "1520.67s - pydevd: Sending message related to process being replaced timed-out after 5 seconds\n"
     ]
    },
    {
     "name": "stdout",
     "output_type": "stream",
     "text": [
      "Collecting boto3\n",
      "  Using cached boto3-1.28.0-py3-none-any.whl (135 kB)\n",
      "Requirement already satisfied: botocore<1.32.0,>=1.31.0 in ./.venv/lib/python3.9/site-packages (from boto3) (1.31.0)\n",
      "Requirement already satisfied: jmespath<2.0.0,>=0.7.1 in ./.venv/lib/python3.9/site-packages (from boto3) (1.0.1)\n",
      "Requirement already satisfied: s3transfer<0.7.0,>=0.6.0 in ./.venv/lib/python3.9/site-packages (from boto3) (0.6.1)\n",
      "Requirement already satisfied: python-dateutil<3.0.0,>=2.1 in ./.venv/lib/python3.9/site-packages (from botocore<1.32.0,>=1.31.0->boto3) (2.8.2)\n",
      "Requirement already satisfied: urllib3<1.27,>=1.25.4 in ./.venv/lib/python3.9/site-packages (from botocore<1.32.0,>=1.31.0->boto3) (1.26.16)\n",
      "Requirement already satisfied: six>=1.5 in ./.venv/lib/python3.9/site-packages (from python-dateutil<3.0.0,>=2.1->botocore<1.32.0,>=1.31.0->boto3) (1.16.0)\n",
      "Installing collected packages: boto3\n",
      "Successfully installed boto3-1.28.0\n",
      "CPU times: user 36.2 ms, sys: 11.5 ms, total: 47.7 ms\n",
      "Wall time: 6.47 s\n",
      "Recording stopped\n",
      "<Closed changeset from 1688680213.4272048 to 1688680219.426504 with 121 creations, 26 modifications, and 22 deletions.>\n",
      "gen_changeset /home/cc/Praxi-study/ai-for-cloud-ops/RTQA/iPython/Praxi/\"$packages_str\"-changesets\n",
      "gen_changeset /home/cc/Praxi-study/ai-for-cloud-ops/RTQA/iPython/Praxi/\"$packages_str\"-changesets/\"$packages_str\"-2.yaml\n",
      "done\n",
      "gen_tagset /home/cc/Praxi-study/ai-for-cloud-ops/RTQA/iPython/Praxi/\"$packages_str\"-tagsets\n",
      "gen_tagset /home/cc/Praxi-study/ai-for-cloud-ops/RTQA/iPython/Praxi/\"$packages_str\"-tagsets/\"$packages_str\"-0.tag\n",
      "gen_tagset /home/cc/Praxi-study/ai-for-cloud-ops/RTQA/iPython/Praxi/\"$packages_str\"-tagsets\n",
      "gen_tagset /home/cc/Praxi-study/ai-for-cloud-ops/RTQA/iPython/Praxi/\"$packages_str\"-tagsets/\"$packages_str\"-1.tag\n",
      "gen_tagset /home/cc/Praxi-study/ai-for-cloud-ops/RTQA/iPython/Praxi/\"$packages_str\"-tagsets\n",
      "gen_tagset /home/cc/Praxi-study/ai-for-cloud-ops/RTQA/iPython/Praxi/\"$packages_str\"-tagsets/\"$packages_str\"-2.tag\n"
     ]
    },
    {
     "name": "stderr",
     "output_type": "stream",
     "text": [
      "1528.94s - pydevd: Sending message related to process being replaced timed-out after 5 seconds\n"
     ]
    },
    {
     "name": "stdout",
     "output_type": "stream",
     "text": [
      "Found existing installation: boto3 1.28.0\n",
      "Uninstalling boto3-1.28.0:\n",
      "  Successfully uninstalled boto3-1.28.0\n",
      "decorated expr get_ipython().system('pip install \"$packages_str\"')\n",
      " <class 'str'>\n",
      "['/home/cc/Praxi-study/ai-for-cloud-ops/RTQA/iPython/.venv/lib/python3.9/site-packages/ipykernel_launcher.py', '--ip=127.0.0.1', '--stdin=9013', '--control=9011', '--hb=9010', '--Session.signature_scheme=\"hmac-sha256\"', '--Session.key=b\"d833c1c3-5943-4ce1-8b64-49fc611259fe\"', '--shell=9012', '--transport=\"tcp\"', '--iopub=9014', '--f=/home/cc/.local/share/jupyter/runtime/kernel-v2-2925yKTxSbRxu6Ij.json']\n",
      "decorated expr_ast <ast.Module object at 0x7fb7aed5cd90>\n",
      "decorated expr_ast.body [<ast.Expr object at 0x7fb7aed5cf10>]\n",
      "decorated code <code object <module> at 0x7fb7f1087030, file \"<timed eval>\", line 1>\n",
      "label, targetdir ['\"$packages_str\"'] /home/cc/Praxi-study/ai-for-cloud-ops/RTQA/iPython/Praxi/\"$packages_str\"-changesets\n",
      "get_free_filename /home/cc/Praxi-study/ai-for-cloud-ops/RTQA/iPython/Praxi/\"$packages_str\"-changesets/\"$packages_str\"-3.yaml\n",
      "Watching:/home/cc/Praxi-study/ai-for-cloud-ops/RTQA/iPython/.venv/lib/python3.9/site-packages/\n",
      "Recording started\n",
      "Press Enter to continue..."
     ]
    },
    {
     "name": "stderr",
     "output_type": "stream",
     "text": [
      "1534.54s - pydevd: Sending message related to process being replaced timed-out after 5 seconds\n"
     ]
    },
    {
     "name": "stdout",
     "output_type": "stream",
     "text": [
      "Collecting boto3\n",
      "  Using cached boto3-1.28.0-py3-none-any.whl (135 kB)\n",
      "Requirement already satisfied: botocore<1.32.0,>=1.31.0 in ./.venv/lib/python3.9/site-packages (from boto3) (1.31.0)\n",
      "Requirement already satisfied: jmespath<2.0.0,>=0.7.1 in ./.venv/lib/python3.9/site-packages (from boto3) (1.0.1)\n",
      "Requirement already satisfied: s3transfer<0.7.0,>=0.6.0 in ./.venv/lib/python3.9/site-packages (from boto3) (0.6.1)\n",
      "Requirement already satisfied: python-dateutil<3.0.0,>=2.1 in ./.venv/lib/python3.9/site-packages (from botocore<1.32.0,>=1.31.0->boto3) (2.8.2)\n",
      "Requirement already satisfied: urllib3<1.27,>=1.25.4 in ./.venv/lib/python3.9/site-packages (from botocore<1.32.0,>=1.31.0->boto3) (1.26.16)\n",
      "Requirement already satisfied: six>=1.5 in ./.venv/lib/python3.9/site-packages (from python-dateutil<3.0.0,>=2.1->botocore<1.32.0,>=1.31.0->boto3) (1.16.0)\n",
      "Installing collected packages: boto3\n",
      "Successfully installed boto3-1.28.0\n",
      "CPU times: user 28.6 ms, sys: 20.8 ms, total: 49.3 ms\n",
      "Wall time: 6.46 s\n",
      "Recording stopped\n",
      "<Closed changeset from 1688680227.2945762 to 1688680233.2972705 with 116 creations, 20 modifications, and 16 deletions.>\n",
      "gen_changeset /home/cc/Praxi-study/ai-for-cloud-ops/RTQA/iPython/Praxi/\"$packages_str\"-changesets\n",
      "gen_changeset /home/cc/Praxi-study/ai-for-cloud-ops/RTQA/iPython/Praxi/\"$packages_str\"-changesets/\"$packages_str\"-3.yaml\n",
      "done\n",
      "gen_tagset /home/cc/Praxi-study/ai-for-cloud-ops/RTQA/iPython/Praxi/\"$packages_str\"-tagsets\n",
      "gen_tagset /home/cc/Praxi-study/ai-for-cloud-ops/RTQA/iPython/Praxi/\"$packages_str\"-tagsets/\"$packages_str\"-0.tag\n",
      "gen_tagset /home/cc/Praxi-study/ai-for-cloud-ops/RTQA/iPython/Praxi/\"$packages_str\"-tagsets\n",
      "gen_tagset /home/cc/Praxi-study/ai-for-cloud-ops/RTQA/iPython/Praxi/\"$packages_str\"-tagsets/\"$packages_str\"-1.tag\n",
      "gen_tagset /home/cc/Praxi-study/ai-for-cloud-ops/RTQA/iPython/Praxi/\"$packages_str\"-tagsets\n",
      "gen_tagset /home/cc/Praxi-study/ai-for-cloud-ops/RTQA/iPython/Praxi/\"$packages_str\"-tagsets/\"$packages_str\"-2.tag\n",
      "gen_tagset /home/cc/Praxi-study/ai-for-cloud-ops/RTQA/iPython/Praxi/\"$packages_str\"-tagsets\n",
      "gen_tagset /home/cc/Praxi-study/ai-for-cloud-ops/RTQA/iPython/Praxi/\"$packages_str\"-tagsets/\"$packages_str\"-3.tag\n"
     ]
    },
    {
     "name": "stderr",
     "output_type": "stream",
     "text": [
      "1542.81s - pydevd: Sending message related to process being replaced timed-out after 5 seconds\n"
     ]
    },
    {
     "name": "stdout",
     "output_type": "stream",
     "text": [
      "Found existing installation: boto3 1.28.0\n",
      "Uninstalling boto3-1.28.0:\n",
      "  Successfully uninstalled boto3-1.28.0\n",
      "decorated expr get_ipython().system('pip install \"$packages_str\"')\n",
      " <class 'str'>\n",
      "['/home/cc/Praxi-study/ai-for-cloud-ops/RTQA/iPython/.venv/lib/python3.9/site-packages/ipykernel_launcher.py', '--ip=127.0.0.1', '--stdin=9013', '--control=9011', '--hb=9010', '--Session.signature_scheme=\"hmac-sha256\"', '--Session.key=b\"d833c1c3-5943-4ce1-8b64-49fc611259fe\"', '--shell=9012', '--transport=\"tcp\"', '--iopub=9014', '--f=/home/cc/.local/share/jupyter/runtime/kernel-v2-2925yKTxSbRxu6Ij.json']\n",
      "decorated expr_ast <ast.Module object at 0x7fb7aed5cd60>\n",
      "decorated expr_ast.body [<ast.Expr object at 0x7fb7aed5cd90>]\n",
      "decorated code <code object <module> at 0x7fb7f1087df0, file \"<timed eval>\", line 1>\n",
      "label, targetdir ['\"$packages_str\"'] /home/cc/Praxi-study/ai-for-cloud-ops/RTQA/iPython/Praxi/\"$packages_str\"-changesets\n",
      "get_free_filename /home/cc/Praxi-study/ai-for-cloud-ops/RTQA/iPython/Praxi/\"$packages_str\"-changesets/\"$packages_str\"-4.yaml\n",
      "Watching:/home/cc/Praxi-study/ai-for-cloud-ops/RTQA/iPython/.venv/lib/python3.9/site-packages/\n",
      "Recording started\n",
      "Press Enter to continue..."
     ]
    },
    {
     "name": "stderr",
     "output_type": "stream",
     "text": [
      "1548.38s - pydevd: Sending message related to process being replaced timed-out after 5 seconds\n"
     ]
    },
    {
     "name": "stdout",
     "output_type": "stream",
     "text": [
      "Collecting boto3\n",
      "  Using cached boto3-1.28.0-py3-none-any.whl (135 kB)\n",
      "Requirement already satisfied: botocore<1.32.0,>=1.31.0 in ./.venv/lib/python3.9/site-packages (from boto3) (1.31.0)\n",
      "Requirement already satisfied: jmespath<2.0.0,>=0.7.1 in ./.venv/lib/python3.9/site-packages (from boto3) (1.0.1)\n",
      "Requirement already satisfied: s3transfer<0.7.0,>=0.6.0 in ./.venv/lib/python3.9/site-packages (from boto3) (0.6.1)\n",
      "Requirement already satisfied: python-dateutil<3.0.0,>=2.1 in ./.venv/lib/python3.9/site-packages (from botocore<1.32.0,>=1.31.0->boto3) (2.8.2)\n",
      "Requirement already satisfied: urllib3<1.27,>=1.25.4 in ./.venv/lib/python3.9/site-packages (from botocore<1.32.0,>=1.31.0->boto3) (1.26.16)\n",
      "Requirement already satisfied: six>=1.5 in ./.venv/lib/python3.9/site-packages (from python-dateutil<3.0.0,>=2.1->botocore<1.32.0,>=1.31.0->boto3) (1.16.0)\n",
      "Installing collected packages: boto3\n",
      "Successfully installed boto3-1.28.0\n",
      "CPU times: user 14.3 ms, sys: 29 ms, total: 43.4 ms\n",
      "Wall time: 6.49 s\n",
      "Recording stopped\n",
      "<Closed changeset from 1688680241.1401253 to 1688680247.1641772 with 113 creations, 17 modifications, and 13 deletions.>\n",
      "gen_changeset /home/cc/Praxi-study/ai-for-cloud-ops/RTQA/iPython/Praxi/\"$packages_str\"-changesets\n",
      "gen_changeset /home/cc/Praxi-study/ai-for-cloud-ops/RTQA/iPython/Praxi/\"$packages_str\"-changesets/\"$packages_str\"-4.yaml\n",
      "done\n"
     ]
    }
   ],
   "source": [
    "# # packages_l = [\"boto3\", \"cmake\", \"jinja2\", \"matplotlib\", \"nvidia-cuda-nvrtc-cu11\", \"pandas\", \"scipy\", \"triton\", \"wheel\"]\n",
    "# packages_l = [\"boto3\", \"cmake\"]\n",
    "# from itertools import combinations\n",
    "# for length in range(1, len(packages_l)+1):\n",
    "#     for packages in combinations(packages_l, length):\n",
    "#         for _ in range(10):\n",
    "#             packages_str = \" \".join(packages)\n",
    "#             %praxi !pip install \"$packages_str\"\n",
    "#             !pip uninstall -y {packages_str}\n",
    "%praxi !pip install boto3 cmake\n",
    "!pip uninstall -y boto3 cmake"
   ]
  },
  {
   "cell_type": "code",
   "execution_count": 7,
   "metadata": {},
   "outputs": [
    {
     "name": "stdout",
     "output_type": "stream",
     "text": [
      "Collecting boto3\n",
      "  Using cached boto3-1.28.0-py3-none-any.whl (135 kB)\n",
      "Collecting cmake\n",
      "  Using cached cmake-3.26.4-py2.py3-none-manylinux2014_x86_64.manylinux_2_17_x86_64.whl (24.0 MB)\n",
      "Requirement already satisfied: botocore<1.32.0,>=1.31.0 in ./.venv/lib/python3.9/site-packages (from boto3) (1.31.0)\n",
      "Requirement already satisfied: jmespath<2.0.0,>=0.7.1 in ./.venv/lib/python3.9/site-packages (from boto3) (1.0.1)\n",
      "Requirement already satisfied: s3transfer<0.7.0,>=0.6.0 in ./.venv/lib/python3.9/site-packages (from boto3) (0.6.1)\n",
      "Requirement already satisfied: python-dateutil<3.0.0,>=2.1 in ./.venv/lib/python3.9/site-packages (from botocore<1.32.0,>=1.31.0->boto3) (2.8.2)\n",
      "Requirement already satisfied: urllib3<1.27,>=1.25.4 in ./.venv/lib/python3.9/site-packages (from botocore<1.32.0,>=1.31.0->boto3) (1.26.16)\n",
      "Requirement already satisfied: six>=1.5 in ./.venv/lib/python3.9/site-packages (from python-dateutil<3.0.0,>=2.1->botocore<1.32.0,>=1.31.0->boto3) (1.16.0)\n",
      "Installing collected packages: cmake, boto3\n",
      "\u001b[31mERROR: pip's dependency resolver does not currently take into account all the packages that are installed. This behaviour is the source of the following dependency conflicts.\n",
      "triton 2.0.0 requires torch, which is not installed.\u001b[0m\u001b[31m\n",
      "\u001b[0mSuccessfully installed boto3-1.28.0 cmake-3.26.4\n",
      "Found existing installation: boto3 1.28.0\n",
      "Uninstalling boto3-1.28.0:\n",
      "  Successfully uninstalled boto3-1.28.0\n",
      "Found existing installation: cmake 3.26.4\n",
      "Uninstalling cmake-3.26.4:\n",
      "  Successfully uninstalled cmake-3.26.4\n"
     ]
    }
   ],
   "source": [
    "packages = [\"boto3\", \"cmake\"]\n",
    "packages_str = \" \".join(packages)\n",
    "!pip install {packages_str}\n",
    "!pip uninstall -y {packages_str}"
   ]
  },
  {
   "cell_type": "code",
   "execution_count": 14,
   "metadata": {},
   "outputs": [
    {
     "name": "stdout",
     "output_type": "stream",
     "text": [
      "Collecting torch\n",
      "  Using cached torch-2.0.1-cp39-cp39-manylinux1_x86_64.whl (619.9 MB)\n",
      "Requirement already satisfied: filelock in ./.venv/lib/python3.9/site-packages (from torch) (3.12.2)\n",
      "Requirement already satisfied: typing-extensions in ./.venv/lib/python3.9/site-packages (from torch) (4.6.0)\n",
      "Requirement already satisfied: sympy in ./.venv/lib/python3.9/site-packages (from torch) (1.12)\n",
      "Requirement already satisfied: networkx in ./.venv/lib/python3.9/site-packages (from torch) (3.1)\n",
      "Requirement already satisfied: jinja2 in ./.venv/lib/python3.9/site-packages (from torch) (3.1.2)\n",
      "Requirement already satisfied: nvidia-cuda-nvrtc-cu11==11.7.99 in ./.venv/lib/python3.9/site-packages (from torch) (11.7.99)\n",
      "Requirement already satisfied: nvidia-cuda-runtime-cu11==11.7.99 in ./.venv/lib/python3.9/site-packages (from torch) (11.7.99)\n",
      "Requirement already satisfied: nvidia-cuda-cupti-cu11==11.7.101 in ./.venv/lib/python3.9/site-packages (from torch) (11.7.101)\n",
      "Requirement already satisfied: nvidia-cudnn-cu11==8.5.0.96 in ./.venv/lib/python3.9/site-packages (from torch) (8.5.0.96)\n",
      "Requirement already satisfied: nvidia-cublas-cu11==11.10.3.66 in ./.venv/lib/python3.9/site-packages (from torch) (11.10.3.66)\n",
      "Requirement already satisfied: nvidia-cufft-cu11==10.9.0.58 in ./.venv/lib/python3.9/site-packages (from torch) (10.9.0.58)\n",
      "Requirement already satisfied: nvidia-curand-cu11==10.2.10.91 in ./.venv/lib/python3.9/site-packages (from torch) (10.2.10.91)\n",
      "Requirement already satisfied: nvidia-cusolver-cu11==11.4.0.1 in ./.venv/lib/python3.9/site-packages (from torch) (11.4.0.1)\n",
      "Requirement already satisfied: nvidia-cusparse-cu11==11.7.4.91 in ./.venv/lib/python3.9/site-packages (from torch) (11.7.4.91)\n",
      "Requirement already satisfied: nvidia-nccl-cu11==2.14.3 in ./.venv/lib/python3.9/site-packages (from torch) (2.14.3)\n",
      "Requirement already satisfied: nvidia-nvtx-cu11==11.7.91 in ./.venv/lib/python3.9/site-packages (from torch) (11.7.91)\n",
      "Requirement already satisfied: triton==2.0.0 in ./.venv/lib/python3.9/site-packages (from torch) (2.0.0)\n",
      "Requirement already satisfied: setuptools in ./.venv/lib/python3.9/site-packages (from nvidia-cublas-cu11==11.10.3.66->torch) (58.1.0)\n",
      "Requirement already satisfied: wheel in ./.venv/lib/python3.9/site-packages (from nvidia-cublas-cu11==11.10.3.66->torch) (0.40.0)\n",
      "Requirement already satisfied: cmake in ./.venv/lib/python3.9/site-packages (from triton==2.0.0->torch) (3.26.4)\n",
      "Requirement already satisfied: lit in ./.venv/lib/python3.9/site-packages (from triton==2.0.0->torch) (16.0.6)\n",
      "Requirement already satisfied: MarkupSafe>=2.0 in ./.venv/lib/python3.9/site-packages (from jinja2->torch) (2.1.3)\n",
      "Requirement already satisfied: mpmath>=0.19 in ./.venv/lib/python3.9/site-packages (from sympy->torch) (1.3.0)\n",
      "Installing collected packages: torch\n",
      "Successfully installed torch-2.0.1\n",
      "Found existing installation: torch 2.0.1\n",
      "Uninstalling torch-2.0.1:\n",
      "  Successfully uninstalled torch-2.0.1\n"
     ]
    }
   ],
   "source": [
    "!pip install torch\n",
    "!pip uninstall -y torch"
   ]
  },
  {
   "cell_type": "code",
   "execution_count": 5,
   "metadata": {},
   "outputs": [
    {
     "data": {
      "text/plain": [
       "'/home/cc/Praxi-study/ai-for-cloud-ops/RTQA/iPython'"
      ]
     },
     "execution_count": 5,
     "metadata": {},
     "output_type": "execute_result"
    }
   ],
   "source": [
    "%pwd"
   ]
  }
 ],
 "metadata": {
  "kernelspec": {
   "display_name": ".venv",
   "language": "python",
   "name": "python3"
  },
  "language_info": {
   "codemirror_mode": {
    "name": "ipython",
    "version": 3
   },
   "file_extension": ".py",
   "mimetype": "text/x-python",
   "name": "python",
   "nbconvert_exporter": "python",
   "pygments_lexer": "ipython3",
   "version": "3.9.16"
  },
  "orig_nbformat": 4
 },
 "nbformat": 4,
 "nbformat_minor": 2
}
